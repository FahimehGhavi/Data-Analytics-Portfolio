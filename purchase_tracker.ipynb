{
 "cells": [
  {
   "cell_type": "code",
   "execution_count": 1,
   "id": "2f15e223",
   "metadata": {},
   "outputs": [
    {
     "data": {
      "text/plain": [
       "WindowsPath('C:/Users/Asus/Untitled Folder/data/purchases.txt')"
      ]
     },
     "execution_count": 1,
     "metadata": {},
     "output_type": "execute_result"
    }
   ],
   "source": [
    "from pathlib import Path\n",
    "\n",
    "DATA_DIR = Path.cwd() / \"data\"\n",
    "DATA_FILE = DATA_DIR / \"purchases.txt\"\n",
    "\n",
    "DATA_DIR.mkdir(parents=True, exist_ok=True)  \n",
    "DATA_FILE\n"
   ]
  },
  {
   "cell_type": "code",
   "execution_count": 2,
   "id": "8f6e982f",
   "metadata": {},
   "outputs": [],
   "source": [
    "def init_data():\n",
    "    \"\"\"Create data file with a few initial lines if it doesn't exist.\"\"\"\n",
    "    DATA_DIR.mkdir(parents=True, exist_ok=True)\n",
    "    if not DATA_FILE.exists():\n",
    "        initial_lines = [\"Milk - 2.5\", \"Bread - 1.2\", \"Eggs - 3.0\"]\n",
    "        with open(DATA_FILE, \"w\", encoding=\"utf-8\") as f:  # write mode\n",
    "            for line in initial_lines:\n",
    "                f.write(line + \"\\n\")\n",
    "    return DATA_FILE.as_posix()\n",
    "\n",
    "\n",
    "def add_purchase(name: str, amount: float):\n",
    "    \"\"\"Append a new purchase (name - amount) to the file.\"\"\"\n",
    "    if not DATA_FILE.exists():\n",
    "        init_data()\n",
    "    line = f\"{name} - {amount}\"\n",
    "    with open(DATA_FILE, \"a\", encoding=\"utf-8\") as f:  # append mode\n",
    "        f.write(line + \"\\n\")\n",
    "    return line\n",
    "\n",
    "\n",
    "def read_purchases():\n",
    "    \"\"\"Return a list of (name, price) by reading the file line by line.\"\"\"\n",
    "    if not DATA_FILE.exists():\n",
    "        return []\n",
    "    items = []\n",
    "    with open(DATA_FILE, \"r\", encoding=\"utf-8\") as f:  # read mode\n",
    "        for raw in f:\n",
    "            raw = raw.strip()\n",
    "            if not raw:\n",
    "                continue\n",
    "            try:\n",
    "                name, price_str = raw.split(\" - \")\n",
    "                items.append((name, float(price_str)))\n",
    "            except ValueError:\n",
    "                continue\n",
    "    return items\n",
    "\n",
    "\n",
    "def list_purchases():\n",
    "    \"\"\"Pretty-print purchases.\"\"\"\n",
    "    items = read_purchases()\n",
    "    if not items:\n",
    "        print(\"No purchases recorded yet.\")\n",
    "        return\n",
    "    print(\"Purchase list:\")\n",
    "    for name, price in items:\n",
    "        print(f\"- {name}: {price}\")\n",
    "\n",
    "\n",
    "def total_spent():\n",
    "    \"\"\"Compute and print the total amount spent.\"\"\"\n",
    "    items = read_purchases()\n",
    "    total = sum(price for _, price in items)\n",
    "    print(f\"Total amount spent: {total}\")\n",
    "    return total\n"
   ]
  },
  {
   "cell_type": "code",
   "execution_count": 3,
   "id": "68f62b3e",
   "metadata": {},
   "outputs": [
    {
     "data": {
      "text/plain": [
       "'C:/Users/Asus/Untitled Folder/data/purchases.txt'"
      ]
     },
     "execution_count": 3,
     "metadata": {},
     "output_type": "execute_result"
    }
   ],
   "source": [
    "init_data()\n"
   ]
  },
  {
   "cell_type": "code",
   "execution_count": 4,
   "id": "e5c0589f",
   "metadata": {},
   "outputs": [
    {
     "data": {
      "text/plain": [
       "'Tea - 1.8'"
      ]
     },
     "execution_count": 4,
     "metadata": {},
     "output_type": "execute_result"
    }
   ],
   "source": [
    "add_purchase(\"Coffee\", 4.5)\n",
    "add_purchase(\"Tea\", 1.8)\n"
   ]
  },
  {
   "cell_type": "code",
   "execution_count": 5,
   "id": "e41496b6",
   "metadata": {},
   "outputs": [
    {
     "name": "stdout",
     "output_type": "stream",
     "text": [
      "Purchase list:\n",
      "- Milk: 2.5\n",
      "- Bread: 1.2\n",
      "- Eggs: 3.0\n",
      "- Coffee: 4.5\n",
      "- Tea: 1.8\n"
     ]
    }
   ],
   "source": [
    "list_purchases()"
   ]
  },
  {
   "cell_type": "code",
   "execution_count": 6,
   "id": "306e8934",
   "metadata": {},
   "outputs": [
    {
     "name": "stdout",
     "output_type": "stream",
     "text": [
      "Total amount spent: 13.0\n"
     ]
    },
    {
     "data": {
      "text/plain": [
       "13.0"
      ]
     },
     "execution_count": 6,
     "metadata": {},
     "output_type": "execute_result"
    }
   ],
   "source": [
    "total_spent()"
   ]
  },
  {
   "cell_type": "code",
   "execution_count": null,
   "id": "18313fe7",
   "metadata": {},
   "outputs": [],
   "source": []
  }
 ],
 "metadata": {
  "kernelspec": {
   "display_name": "Python 3 (ipykernel)",
   "language": "python",
   "name": "python3"
  },
  "language_info": {
   "codemirror_mode": {
    "name": "ipython",
    "version": 3
   },
   "file_extension": ".py",
   "mimetype": "text/x-python",
   "name": "python",
   "nbconvert_exporter": "python",
   "pygments_lexer": "ipython3",
   "version": "3.9.12"
  }
 },
 "nbformat": 4,
 "nbformat_minor": 5
}
